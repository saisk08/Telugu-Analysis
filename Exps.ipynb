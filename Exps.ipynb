{
 "cells": [
  {
   "cell_type": "code",
   "execution_count": 1,
   "metadata": {},
   "outputs": [],
   "source": [
    "from itertools import combinations\n",
    "\n",
    "chars = [\n",
    "    'అ',\n",
    "    'న',\n",
    "    'వ',\n",
    "    'మ',\n",
    "    'య',\n",
    "    'ల',\n",
    "    'ర',\n",
    "    'ఒ',\n",
    "    'జ',\n",
    "    'ఠ',\n",
    "    'ఆ',\n",
    "    'ఉ',\n",
    "    'ఊ',\n",
    "    'ఎ',\n",
    "    'ఏ',\n",
    "    'ప',\n",
    "    'ఫ',\n",
    "    'ద',\n",
    "    'డ',\n",
    "    'బ',\n",
    "    'త',\n",
    "    'క',\n",
    "    'హ',\n",
    "    'ణ',\n",
    "    'ఘ',\n",
    "]\n",
    "\n",
    "chars_pairs = [x + '-' + y for x, y in list(combinations(chars, 2))]"
   ]
  },
  {
   "cell_type": "code",
   "execution_count": 11,
   "metadata": {},
   "outputs": [
    {
     "name": "stdout",
     "output_type": "stream",
     "text": [
      "8 అ-ఠ\n",
      "31 న-ఠ\n",
      "53 వ-ఠ\n",
      "74 మ-ఠ\n",
      "94 య-ఠ\n",
      "113 ల-ఠ\n",
      "131 ర-ఠ\n",
      "148 ఒ-ఠ\n",
      "164 జ-ఠ\n",
      "180 ఠ-ఆ\n",
      "181 ఠ-ఉ\n",
      "182 ఠ-ఊ\n",
      "183 ఠ-ఎ\n",
      "184 ఠ-ఏ\n",
      "185 ఠ-ప\n",
      "186 ఠ-ఫ\n",
      "187 ఠ-ద\n",
      "188 ఠ-డ\n",
      "189 ఠ-బ\n",
      "190 ఠ-త\n",
      "191 ఠ-క\n",
      "192 ఠ-హ\n",
      "193 ఠ-ణ\n",
      "194 ఠ-ఘ\n"
     ]
    }
   ],
   "source": [
    "ta = 'ఠ'\n",
    "val = []\n",
    "for idx, c in enumerate(chars_pairs):\n",
    "    if ta in c:\n",
    "        val.append(idx)\n",
    "        print(idx, c)"
   ]
  },
  {
   "cell_type": "code",
   "execution_count": 8,
   "metadata": {},
   "outputs": [
    {
     "name": "stdout",
     "output_type": "stream",
     "text": [
      "(300,)\n"
     ]
    }
   ],
   "source": [
    "import pickle\n",
    "f1 = open('rdms_custom.pkl', 'rb')\n",
    "f2 = open('rdms_minmax.pkl', 'rb')\n",
    "custom = pickle.load(f1)\n",
    "minmax = pickle.load(f2)\n",
    "f1.close(); f2.close()\n",
    "print(custom[0].shape)"
   ]
  },
  {
   "cell_type": "code",
   "execution_count": 10,
   "metadata": {},
   "outputs": [
    {
     "data": {
      "text/plain": [
       "array([1, 2, 3, 4, 6, 8, 9])"
      ]
     },
     "execution_count": 10,
     "metadata": {},
     "output_type": "execute_result"
    }
   ],
   "source": [
    "import numpy as np\n",
    "a = np.arange(10)\n",
    "np.delete(a, [0, 5, 7])"
   ]
  },
  {
   "cell_type": "code",
   "execution_count": 13,
   "metadata": {},
   "outputs": [
    {
     "name": "stdout",
     "output_type": "stream",
     "text": [
      "(2, 276) (2, 276)\n"
     ]
    }
   ],
   "source": [
    "n_custom = np.array([np.delete(custom[0], val), np.delete(custom[1], val)])\n",
    "n_minmax = np.array([np.delete(minmax[0], val), np.delete(minmax[1], val)])\n",
    "\n",
    "print(n_custom.shape, n_minmax.shape)"
   ]
  },
  {
   "cell_type": "code",
   "execution_count": 17,
   "metadata": {},
   "outputs": [],
   "source": [
    "f1 = open('rdms_custom_w.pkl', 'wb')\n",
    "f2 = open('rdms_minmax_w.pkl', 'wb')\n",
    "pickle.dump(n_custom, f1)\n",
    "pickle.dump(n_minmax, f2)\n",
    "f1.close(); f2.close()"
   ]
  },
  {
   "cell_type": "markdown",
   "metadata": {},
   "source": [
    "# T-test\n"
   ]
  },
  {
   "cell_type": "code",
   "execution_count": 13,
   "metadata": {},
   "outputs": [],
   "source": [
    "import numpy as np\n",
    "\n",
    "def toNumber(x):\n",
    "    if x is '1' or x == 'Very dissimilar':\n",
    "        return 1\n",
    "    if x is '2' or x == 'Dissimilar':\n",
    "        return 2\n",
    "    if x is '3' or x == 'Neutral':\n",
    "        return 3\n",
    "    if x is '4' or x == 'Similar':\n",
    "        return 4\n",
    "    if x is '5' or x == 'Very Similar':\n",
    "        return 5\n",
    "\n",
    "\n",
    "def get_reaction_with_score(data, score):\n",
    "    scores = list()\n",
    "    reactions = list()\n",
    "    for user in data:\n",
    "        temp1 = [toNumber(x['value']) for x in data[user]['data']]\n",
    "        temp2 = [x['reactionTime'] for x in data[user]['data']]\n",
    "        scores.append(temp1)\n",
    "        reactions.append(temp2)\n",
    "    scores, reactions = np.array(scores), np.array(reactions)\n",
    "    return reactions[scores == score]\n"
   ]
  },
  {
   "cell_type": "code",
   "execution_count": 14,
   "metadata": {},
   "outputs": [
    {
     "name": "stdout",
     "output_type": "stream",
     "text": [
      "-0.1397396182911452 0.8888850361222865\n"
     ]
    }
   ],
   "source": [
    "import json\n",
    "from scipy import stats\n",
    "\n",
    "ver1_file = open('ver1.json')\n",
    "ver2_file = open('ver2.json')\n",
    "ver1_data = json.load(ver1_file)\n",
    "ver2_data = json.load(ver2_file)\n",
    "\n",
    "a = get_reaction_with_score(ver1_data, 3)\n",
    "b = get_reaction_with_score(ver2_data, 3)\n",
    "t, p = stats.ttest_ind(a, b)\n",
    "print(t, p)"
   ]
  },
  {
   "cell_type": "code",
   "execution_count": 15,
   "metadata": {},
   "outputs": [
    {
     "name": "stdout",
     "output_type": "stream",
     "text": [
      "1.9602371990246412 0.0500103252633267\n"
     ]
    }
   ],
   "source": [
    "a = get_reaction_with_score(ver1_data, 1)\n",
    "b = get_reaction_with_score(ver2_data, 1)\n",
    "t, p = stats.ttest_ind(a, b)\n",
    "print(t, p)"
   ]
  },
  {
   "cell_type": "code",
   "execution_count": 16,
   "metadata": {},
   "outputs": [
    {
     "name": "stdout",
     "output_type": "stream",
     "text": [
      "5.2136336794825215 2.3491110693877574e-07\n"
     ]
    }
   ],
   "source": [
    "a = get_reaction_with_score(ver1_data, 5)\n",
    "b = get_reaction_with_score(ver2_data, 5)\n",
    "t, p = stats.ttest_ind(a, b)\n",
    "print(t, p)"
   ]
  },
  {
   "cell_type": "code",
   "execution_count": 17,
   "metadata": {},
   "outputs": [
    {
     "name": "stdout",
     "output_type": "stream",
     "text": [
      "-1.7969844699705075 0.0724241693329875\n"
     ]
    }
   ],
   "source": [
    "a = get_reaction_with_score(ver1_data, 2)\n",
    "b = get_reaction_with_score(ver2_data, 2)\n",
    "t, p = stats.ttest_ind(a, b)\n",
    "print(t, p)"
   ]
  },
  {
   "cell_type": "code",
   "execution_count": 18,
   "metadata": {},
   "outputs": [
    {
     "name": "stdout",
     "output_type": "stream",
     "text": [
      "-2.4944356002945836 0.012693873838978681\n"
     ]
    }
   ],
   "source": [
    "a = get_reaction_with_score(ver1_data, 4)\n",
    "b = get_reaction_with_score(ver2_data, 4)\n",
    "t, p = stats.ttest_ind(a, b)\n",
    "print(t, p)"
   ]
  },
  {
   "cell_type": "code",
   "execution_count": null,
   "metadata": {},
   "outputs": [],
   "source": []
  }
 ],
 "metadata": {
  "kernelspec": {
   "display_name": "Python 3",
   "language": "python",
   "name": "python3"
  },
  "language_info": {
   "codemirror_mode": {
    "name": "ipython",
    "version": 3
   },
   "file_extension": ".py",
   "mimetype": "text/x-python",
   "name": "python",
   "nbconvert_exporter": "python",
   "pygments_lexer": "ipython3",
   "version": "3.6.10"
  }
 },
 "nbformat": 4,
 "nbformat_minor": 4
}

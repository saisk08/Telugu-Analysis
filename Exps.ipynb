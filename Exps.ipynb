{
 "cells": [
  {
   "cell_type": "code",
   "execution_count": 1,
   "metadata": {},
   "outputs": [],
   "source": [
    "from itertools import combinations\n",
    "\n",
    "chars = [\n",
    "    'అ',\n",
    "    'న',\n",
    "    'వ',\n",
    "    'మ',\n",
    "    'య',\n",
    "    'ల',\n",
    "    'ర',\n",
    "    'ఒ',\n",
    "    'జ',\n",
    "    'ఠ',\n",
    "    'ఆ',\n",
    "    'ఉ',\n",
    "    'ఊ',\n",
    "    'ఎ',\n",
    "    'ఏ',\n",
    "    'ప',\n",
    "    'ఫ',\n",
    "    'ద',\n",
    "    'డ',\n",
    "    'బ',\n",
    "    'త',\n",
    "    'క',\n",
    "    'హ',\n",
    "    'ణ',\n",
    "    'ఘ',\n",
    "]\n",
    "\n",
    "chars_pairs = [x + '-' + y for x, y in list(combinations(chars, 2))]"
   ]
  },
  {
   "cell_type": "code",
   "execution_count": 11,
   "metadata": {},
   "outputs": [
    {
     "name": "stdout",
     "output_type": "stream",
     "text": [
      "8 అ-ఠ\n",
      "31 న-ఠ\n",
      "53 వ-ఠ\n",
      "74 మ-ఠ\n",
      "94 య-ఠ\n",
      "113 ల-ఠ\n",
      "131 ర-ఠ\n",
      "148 ఒ-ఠ\n",
      "164 జ-ఠ\n",
      "180 ఠ-ఆ\n",
      "181 ఠ-ఉ\n",
      "182 ఠ-ఊ\n",
      "183 ఠ-ఎ\n",
      "184 ఠ-ఏ\n",
      "185 ఠ-ప\n",
      "186 ఠ-ఫ\n",
      "187 ఠ-ద\n",
      "188 ఠ-డ\n",
      "189 ఠ-బ\n",
      "190 ఠ-త\n",
      "191 ఠ-క\n",
      "192 ఠ-హ\n",
      "193 ఠ-ణ\n",
      "194 ఠ-ఘ\n"
     ]
    }
   ],
   "source": [
    "ta = 'ఠ'\n",
    "val = []\n",
    "for idx, c in enumerate(chars_pairs):\n",
    "    if ta in c:\n",
    "        val.append(idx)\n",
    "        print(idx, c)"
   ]
  },
  {
   "cell_type": "code",
   "execution_count": 8,
   "metadata": {},
   "outputs": [
    {
     "name": "stdout",
     "output_type": "stream",
     "text": [
      "(300,)\n"
     ]
    }
   ],
   "source": [
    "import pickle\n",
    "f1 = open('rdms_custom.pkl', 'rb')\n",
    "f2 = open('rdms_minmax.pkl', 'rb')\n",
    "custom = pickle.load(f1)\n",
    "minmax = pickle.load(f2)\n",
    "f1.close(); f2.close()\n",
    "print(custom[0].shape)"
   ]
  },
  {
   "cell_type": "code",
   "execution_count": 10,
   "metadata": {},
   "outputs": [
    {
     "data": {
      "text/plain": [
       "array([1, 2, 3, 4, 6, 8, 9])"
      ]
     },
     "execution_count": 10,
     "metadata": {},
     "output_type": "execute_result"
    }
   ],
   "source": [
    "import numpy as np\n",
    "a = np.arange(10)\n",
    "np.delete(a, [0, 5, 7])"
   ]
  },
  {
   "cell_type": "code",
   "execution_count": 13,
   "metadata": {},
   "outputs": [
    {
     "name": "stdout",
     "output_type": "stream",
     "text": [
      "(2, 276) (2, 276)\n"
     ]
    }
   ],
   "source": [
    "n_custom = np.array([np.delete(custom[0], val), np.delete(custom[1], val)])\n",
    "n_minmax = np.array([np.delete(minmax[0], val), np.delete(minmax[1], val)])\n",
    "\n",
    "print(n_custom.shape, n_minmax.shape)"
   ]
  },
  {
   "cell_type": "code",
   "execution_count": 17,
   "metadata": {},
   "outputs": [],
   "source": [
    "f1 = open('rdms_custom_w.pkl', 'wb')\n",
    "f2 = open('rdms_minmax_w.pkl', 'wb')\n",
    "pickle.dump(n_custom, f1)\n",
    "pickle.dump(n_minmax, f2)\n",
    "f1.close(); f2.close()"
   ]
  },
  {
   "cell_type": "code",
   "execution_count": null,
   "metadata": {},
   "outputs": [],
   "source": []
  }
 ],
 "metadata": {
  "kernelspec": {
   "display_name": "Python 3",
   "language": "python",
   "name": "python3"
  },
  "language_info": {
   "codemirror_mode": {
    "name": "ipython",
    "version": 3
   },
   "file_extension": ".py",
   "mimetype": "text/x-python",
   "name": "python",
   "nbconvert_exporter": "python",
   "pygments_lexer": "ipython3",
   "version": "3.6.10"
  }
 },
 "nbformat": 4,
 "nbformat_minor": 4
}
